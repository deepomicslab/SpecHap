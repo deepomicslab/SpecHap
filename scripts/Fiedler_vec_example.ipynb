{
 "metadata": {
  "language_info": {
   "codemirror_mode": {
    "name": "ipython",
    "version": 3
   },
   "file_extension": ".py",
   "mimetype": "text/x-python",
   "name": "python",
   "nbconvert_exporter": "python",
   "pygments_lexer": "ipython3",
   "version": "3.8.2"
  },
  "orig_nbformat": 2,
  "kernelspec": {
   "name": "python382jvsc74a57bd031f2aee4e71d21fbe5cf8b01ff0e069b9275f58929596ceb00d14d90e3e16cd6",
   "display_name": "Python 3.8.2 64-bit"
  },
  "metadata": {
   "interpreter": {
    "hash": "31f2aee4e71d21fbe5cf8b01ff0e069b9275f58929596ceb00d14d90e3e16cd6"
   }
  }
 },
 "nbformat": 4,
 "nbformat_minor": 2,
 "cells": [
  {
   "source": [
    "#### This notebook contains examples for the exceptions described in the manuscript\n",
    "#### Notice that we use scipy.sparse.linalg.eigsh for eigen calculation since it adopts the same underling routine as SpecHap"
   ],
   "cell_type": "markdown",
   "metadata": {}
  },
  {
   "cell_type": "code",
   "execution_count": 2,
   "metadata": {},
   "outputs": [],
   "source": [
    "import numpy as np\n",
    "from scipy.sparse.linalg import eigsh "
   ]
  },
  {
   "source": [
    "#### Here we provide an simple illustration when Fiedler vector contains entries approximating zero\n",
    "#### The matrix demonstrate the linkage graph of three variants loci with equal likelihood for conflicting haplotypes 000 and 010 "
   ],
   "cell_type": "markdown",
   "metadata": {}
  },
  {
   "cell_type": "code",
   "execution_count": 463,
   "metadata": {},
   "outputs": [],
   "source": [
    "mat = np.array([[0,0, 0.1,0.1, 0.1,0],\n",
    "                [0,0, 0.1,0.1, 0,0.1],\n",
    "                [0.1,0.1, 0,0, 0.1,0.1],\n",
    "                [0.1,0.1, 0,0, 0.1,0.1],\n",
    "                [0.1,0, 0.1,0.1, 0,0],\n",
    "                [0,0.1, 0.1,0.1, 0,0],], dtype='f')"
   ]
  },
  {
   "source": [
    "#### Notice the entries corresponding to the second variant locus contains value approximating zero "
   ],
   "cell_type": "markdown",
   "metadata": {}
  },
  {
   "cell_type": "code",
   "execution_count": 487,
   "metadata": {},
   "outputs": [
    {
     "output_type": "execute_result",
     "data": {
      "text/plain": [
       "array([[ 5.0000006e-01],\n",
       "       [-5.0000000e-01],\n",
       "       [ 5.9604645e-08],\n",
       "       [ 0.0000000e+00],\n",
       "       [ 5.0000006e-01],\n",
       "       [-5.0000000e-01]], dtype=float32)"
      ]
     },
     "metadata": {},
     "execution_count": 487
    }
   ],
   "source": [
    "D = np.diag(np.sum(mat, axis= 0))\n",
    "L = np.matrix(D - mat)\n",
    "vals, vecs = eigsh(L, k=2, which='SM')\n",
    "fiedler_vec = vecs[:,[1]]\n",
    "fiedler_vec"
   ]
  },
  {
   "source": [
    "#### Now we provide an example for Fiedler vector that guides the partitioning of variants.\n",
    "#### The matrix demonstrate the linkage graph for 6 variants loci \n",
    "#### The first and last three variants loci are fully connected correspondingly\n",
    "#### The two fully connected blocks are connected through a relatively low-weight edge between the third and fourth locus "
   ],
   "cell_type": "markdown",
   "metadata": {}
  },
  {
   "source": [
    "\n",
    "mat = np.array([[0,0, 0.1,0.05, 0.1,0.05, 0,0, 0,0 , 0,0],\n",
    "                [0,0, 0.05,0.1, 0.05,0.1, 0,0, 0,0 , 0,0],\n",
    "                [0.1,0.05, 0,0, 0.1,0.05, 0,0, 0,0, 0,0],\n",
    "                [0.05,0.1, 0,0, 0.05,0.1, 0,0, 0,0, 0,0],\n",
    "                [0.1,0.05, 0.1,0.05, 0,0, 0.01,0, 0,0, 0,0],\n",
    "                [0.05,0.1, 0.05,0.1, 0,0, 0,0.01, 0,0, 0,0],\n",
    "                [0,0, 0,0, 0.01,0, 0,0, 0.1,0.05, 0.1,0.05],\n",
    "                [0,0, 0,0, 0,0.01, 0,0, 0.05,0.1, 0.05,0.1],\n",
    "                [0,0, 0,0, 0,0, 0.1,0.05, 0,0, 0.1,0.05,],\n",
    "                [0,0, 0,0, 0,0, 0.05,0.1, 0,0, 0.05,0.1,],\n",
    "                [0,0, 0,0, 0,0, 0.1,0.05, 0.1,0.05, 0,0,],\n",
    "                [0,0, 0,0, 0,0, 0.05,0.1, 0.05,0.1, 0,0,],]\n",
    "                , dtype='f')"
   ],
   "cell_type": "code",
   "metadata": {},
   "execution_count": 8,
   "outputs": []
  },
  {
   "source": [
    "#### Notice that the Fielder vector partition the variants loci into two groups "
   ],
   "cell_type": "markdown",
   "metadata": {}
  },
  {
   "cell_type": "code",
   "execution_count": 13,
   "metadata": {},
   "outputs": [
    {
     "output_type": "execute_result",
     "data": {
      "text/plain": [
       "array([[ 0.29282618],\n",
       "       [ 0.29282615],\n",
       "       [ 0.29282615],\n",
       "       [ 0.29282606],\n",
       "       [ 0.28019154],\n",
       "       [ 0.28019154],\n",
       "       [-0.2801897 ],\n",
       "       [-0.28018972],\n",
       "       [-0.29282433],\n",
       "       [-0.2928244 ],\n",
       "       [-0.29282433],\n",
       "       [-0.29282436]], dtype=float32)"
      ]
     },
     "metadata": {},
     "execution_count": 13
    }
   ],
   "source": [
    "D = np.diag(np.sum(mat, axis= 0))\n",
    "L = np.matrix(D - mat)\n",
    "vals, vecs = eigsh(L, k=2, which='SM')\n",
    "fiedler_vec = vecs[:,[1]]\n",
    "fiedler_vec"
   ]
  },
  {
   "cell_type": "code",
   "execution_count": null,
   "metadata": {},
   "outputs": [],
   "source": []
  }
 ]
}