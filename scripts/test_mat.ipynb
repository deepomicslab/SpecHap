{
 "metadata": {
  "language_info": {
   "codemirror_mode": {
    "name": "ipython",
    "version": 3
   },
   "file_extension": ".py",
   "mimetype": "text/x-python",
   "name": "python",
   "nbconvert_exporter": "python",
   "pygments_lexer": "ipython3",
   "version": "3.8.2"
  },
  "orig_nbformat": 2,
  "kernelspec": {
   "name": "python382jvsc74a57bd031f2aee4e71d21fbe5cf8b01ff0e069b9275f58929596ceb00d14d90e3e16cd6",
   "display_name": "Python 3.8.2 64-bit"
  },
  "metadata": {
   "interpreter": {
    "hash": "31f2aee4e71d21fbe5cf8b01ff0e069b9275f58929596ceb00d14d90e3e16cd6"
   }
  }
 },
 "nbformat": 4,
 "nbformat_minor": 2,
 "cells": [
  {
   "cell_type": "code",
   "execution_count": 319,
   "metadata": {},
   "outputs": [],
   "source": [
    "import numpy as np\n",
    "from scipy.sparse.linalg import eigsh "
   ]
  },
  {
   "cell_type": "code",
   "execution_count": 320,
   "metadata": {},
   "outputs": [],
   "source": [
    "mat = np.array([[0,0, 0.1,0.1, 0.1,0],\n",
    "                [0,0, 0.1,0.1, 0,0.1],\n",
    "                [0.1,0.1, 0,0, 0.1,0.1],\n",
    "                [0.1,0.1, 0,0, 0.1,0.1],\n",
    "                [0.1,0, 0.1,0.1, 0,0],\n",
    "                [0,0.1, 0.1,0.1, 0,0],], dtype='f')"
   ]
  },
  {
   "cell_type": "code",
   "execution_count": 321,
   "metadata": {},
   "outputs": [
    {
     "output_type": "execute_result",
     "data": {
      "text/plain": [
       "array([[0. , 0. , 0.1, 0.1, 0.1, 0. ],\n",
       "       [0. , 0. , 0.1, 0.1, 0. , 0.1],\n",
       "       [0.1, 0.1, 0. , 0. , 0.1, 0.1],\n",
       "       [0.1, 0.1, 0. , 0. , 0.1, 0.1],\n",
       "       [0.1, 0. , 0.1, 0.1, 0. , 0. ],\n",
       "       [0. , 0.1, 0.1, 0.1, 0. , 0. ]], dtype=float32)"
      ]
     },
     "metadata": {},
     "execution_count": 321
    }
   ],
   "source": [
    "mat"
   ]
  },
  {
   "cell_type": "code",
   "execution_count": 322,
   "metadata": {},
   "outputs": [],
   "source": [
    "D = np.diag(np.sum(mat, axis= 0))"
   ]
  },
  {
   "cell_type": "code",
   "execution_count": 323,
   "metadata": {},
   "outputs": [
    {
     "output_type": "execute_result",
     "data": {
      "text/plain": [
       "array([[0.3, 0. , 0. , 0. , 0. , 0. ],\n",
       "       [0. , 0.3, 0. , 0. , 0. , 0. ],\n",
       "       [0. , 0. , 0.4, 0. , 0. , 0. ],\n",
       "       [0. , 0. , 0. , 0.4, 0. , 0. ],\n",
       "       [0. , 0. , 0. , 0. , 0.3, 0. ],\n",
       "       [0. , 0. , 0. , 0. , 0. , 0.3]], dtype=float32)"
      ]
     },
     "metadata": {},
     "execution_count": 323
    }
   ],
   "source": [
    "D"
   ]
  },
  {
   "cell_type": "code",
   "execution_count": 324,
   "metadata": {},
   "outputs": [],
   "source": [
    "L = np.matrix(D - mat)"
   ]
  },
  {
   "cell_type": "code",
   "execution_count": 325,
   "metadata": {},
   "outputs": [
    {
     "output_type": "execute_result",
     "data": {
      "text/plain": [
       "matrix([[ 0.3,  0. , -0.1, -0.1, -0.1,  0. ],\n",
       "        [ 0. ,  0.3, -0.1, -0.1,  0. , -0.1],\n",
       "        [-0.1, -0.1,  0.4,  0. , -0.1, -0.1],\n",
       "        [-0.1, -0.1,  0. ,  0.4, -0.1, -0.1],\n",
       "        [-0.1,  0. , -0.1, -0.1,  0.3,  0. ],\n",
       "        [ 0. , -0.1, -0.1, -0.1,  0. ,  0.3]], dtype=float32)"
      ]
     },
     "metadata": {},
     "execution_count": 325
    }
   ],
   "source": [
    "L"
   ]
  },
  {
   "cell_type": "code",
   "execution_count": 326,
   "metadata": {},
   "outputs": [],
   "source": [
    "vals, vecs = eigsh(L, k=2, which='SM')"
   ]
  },
  {
   "cell_type": "code",
   "execution_count": 327,
   "metadata": {},
   "outputs": [
    {
     "output_type": "execute_result",
     "data": {
      "text/plain": [
       "array([[ 4.0824836e-01,  4.9999994e-01],\n",
       "       [ 4.0824836e-01, -5.0000024e-01],\n",
       "       [ 4.0824825e-01,  7.4505806e-08],\n",
       "       [ 4.0824831e-01,  5.9604645e-08],\n",
       "       [ 4.0824836e-01,  4.9999997e-01],\n",
       "       [ 4.0824836e-01, -5.0000000e-01]], dtype=float32)"
      ]
     },
     "metadata": {},
     "execution_count": 327
    }
   ],
   "source": [
    "vecs"
   ]
  },
  {
   "cell_type": "code",
   "execution_count": 328,
   "metadata": {},
   "outputs": [
    {
     "output_type": "execute_result",
     "data": {
      "text/plain": [
       "array([6.7055225e-08, 2.0000000e-01], dtype=float32)"
      ]
     },
     "metadata": {},
     "execution_count": 328
    }
   ],
   "source": [
    "vals"
   ]
  },
  {
   "cell_type": "code",
   "execution_count": null,
   "metadata": {},
   "outputs": [],
   "source": []
  }
 ]
}